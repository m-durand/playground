{
 "cells": [
  {
   "cell_type": "code",
   "execution_count": 1,
   "metadata": {},
   "outputs": [],
   "source": [
    "import math"
   ]
  },
  {
   "cell_type": "markdown",
   "metadata": {},
   "source": [
    "\n",
    "**¿Cuál es la probabilidad de reencontrarme con una persona específica en Madrid?**\n",
    "\n",
    "El caso más fácil es suponer una distribución uniforme de todas las variables, a saber:\n",
    "* La cantidad de habitantes en Madrid (lo lamento, periferia)\n",
    "* La densidad de visita a todas las secciones de Madrid (aunque mi calle no la visita ni Dios)\n",
    "* La distribución de horas a las cuales las personas están fuera caminando (este es el supuesto más fácil de romper, creo)\n"
   ]
  },
  {
   "cell_type": "code",
   "execution_count": 2,
   "metadata": {},
   "outputs": [],
   "source": [
    "# Parámetros necesarios\n",
    "\n",
    "hab_madrid = 3332035\n",
    "area_madrid = 604.45 # km cuadrados\n",
    "\n",
    "# fuente: https://es.wikipedia.org/wiki/Madrid"
   ]
  },
  {
   "cell_type": "markdown",
   "metadata": {},
   "source": [
    "Vamos a suponer que \"encontrarse con alguien\" implica caminar en el mismo cuadrado de 3x3m, en el mismo periodo de 10 segundos. No es necesario contacto visual ni ninguna interacción explícita, solamente estar suficientemente cerca como para que realistamente pueda notarse la presencia. Este ejercicio es stalker-friendly."
   ]
  },
  {
   "cell_type": "code",
   "execution_count": 3,
   "metadata": {},
   "outputs": [],
   "source": [
    "lado_grid = 3 # en metros\n",
    "tiempo_necesario = 10 # en segundos"
   ]
  },
  {
   "cell_type": "markdown",
   "metadata": {},
   "source": [
    "Necesitamos entonces partir a Madrid en pequeños cuadros."
   ]
  },
  {
   "cell_type": "code",
   "execution_count": 4,
   "metadata": {},
   "outputs": [
    {
     "data": {
      "text/plain": [
       "67161112"
      ]
     },
     "execution_count": 4,
     "metadata": {},
     "output_type": "execute_result"
    }
   ],
   "source": [
    "area_grid = lado_grid ** 2\n",
    "area_madrid_m2 = area_madrid * 1000000\n",
    "num_grids = int(area_madrid_m2 / area_grid) + 1 # Redondeamos al entero siguiente porque me molesta la idea de un grid incompleto\n",
    "\n",
    "num_grids"
   ]
  },
  {
   "cell_type": "markdown",
   "metadata": {},
   "source": [
    "Así, la probabilidad de que un habitante de Madrid esté en un grid concreto en un momento específico de tiempo es de aproximadamente 1/67,000,000 (aprox 0.000000015). \n",
    "\n",
    "Esto no se ve muy esperanzador. Pero sigamos.\n",
    "\n",
    "Recordemos que además de encontrarse en el mismo cuadrado, ambas personas deben coincidir en el tiempo. Se ha definido que los madrileños permanecen 10 segundos en el cuadrado, y después se enfrentan a una distribución de probabilidad uniforme para moverse a cualquier otro cuadrado en Madrid, incluyendo en el que están. Sí, en este universo existe la teleportación. Se aceptan pull requests si este supuesto les molesta mucho.\n",
    "\n",
    "En un día existen rangos de 10 segundos. Si se hacen experimentos durante todo el día, existen 8640 de estos rangos:"
   ]
  },
  {
   "cell_type": "code",
   "execution_count": 5,
   "metadata": {},
   "outputs": [
    {
     "data": {
      "text/plain": [
       "8640"
      ]
     },
     "execution_count": 5,
     "metadata": {},
     "output_type": "execute_result"
    }
   ],
   "source": [
    "rangos_encuentro = 24*60*6 # 24 horas, 60 minutos, 6 rangos por minuto\n",
    "\n",
    "rangos_encuentro"
   ]
  },
  {
   "cell_type": "markdown",
   "metadata": {},
   "source": [
    "Nos interesa la probabilidad de que, en algún punto del día, al menos una vez, ambas personas se encuentren en el mismo cuadrado.\n",
    "\n",
    "Esto en realidad es equivalente a tirar 7200 veces un par de dados con 67 millones de caras y que en al menos un tiro ambos números sean el mismo, por cierto. Entonces se obtendrá la probabilidad de que los 7200 lanzamientos sean diferentes, y después se restará uno.\n",
    "\n",
    "En cualquier lanzamiento, el primer \"dado\" puede tomar todos los valores, pero el segundo \"dado\" puede tomar solamente el resto de tales valores. Por lo tanto, la probabilidad de que al menos un tiro resulte en dobles, es:\n",
    "\n",
    "$$\n",
    "P(\\text{al menos un dobles en n tiros de dados con k caras}) = 1 - \\left( \\frac{k-1}{k} \\right)^n\n",
    "$$\n",
    "\n"
   ]
  },
  {
   "cell_type": "code",
   "execution_count": 6,
   "metadata": {},
   "outputs": [
    {
     "name": "stdout",
     "output_type": "stream",
     "text": [
      "0.00012863760086512244\n"
     ]
    }
   ],
   "source": [
    "prob_ningun_doble = ((num_grids - 1) / num_grids) ** rangos_encuentro\n",
    "\n",
    "print(1 - prob_ningun_doble)\n"
   ]
  },
  {
   "cell_type": "markdown",
   "metadata": {},
   "source": [
    "Vaya. En esta incansable búsqueda (o escapada) de dos madrileños, la probabilidad de que se encuentren durante un día es de apenas 0.00012, lo cual sigue siendo más alto que la de ganar el Gordo.\n",
    "\n",
    "Por cierto, no caigan en la trampa de creer que si se quiere maximizar la probabilidad de reencuentro con alguien madrileño, es óptimo quedarse en un solo cuadrado del grid y esperar a que tal madrileño vuelva a caer en él. Los ensayos son independientes. De cualquier manera, interesa preguntar: ¿cuánto tiempo hay que esperar para que la probabilidad de que llegue a un cuadro específico sea mayor a 0.5?\n",
    "\n",
    "Si el primer madrileño se queda en un cuadro fijo, entonces la probabilidad que buscamos es equivalente al complemento de que en n tiros, el segundo madrileño no visite ese cuadrado. Es decir, la fórmula es exactamente la misma que la anterior, pero ahora la probabilidad es conocida y necesitamos despejar _n_:\n",
    "\n",
    "$$\n",
    "1 - \\left( \\frac{k-1}{k} \\right)^n > 0.5\n",
    "$$\n",
    "\n",
    "Despejando,\n",
    "\n",
    "$$\n",
    "n > \\frac{\\ln(0.5)}{\\ln\\left( \\frac{k-1}{k} \\right)}\n",
    "$$\n"
   ]
  },
  {
   "cell_type": "code",
   "execution_count": 7,
   "metadata": {},
   "outputs": [
    {
     "name": "stdout",
     "output_type": "stream",
     "text": [
      "46552536\n"
     ]
    }
   ],
   "source": [
    "intentos_necesarios = math.ceil(math.log(0.5) / math.log((num_grids-1)/num_grids))\n",
    "\n",
    "print(intentos_necesarios)"
   ]
  },
  {
   "cell_type": "markdown",
   "metadata": {},
   "source": [
    "Recordando que en un día hay 8640 intentos, habría que esperar 5389 días, o equivalentemente, casi 15 años, en ese cuadrado. Eso me recordó a cuando esperé 15 horas en fila para tratar de votar. 0/5 estrellas, no recomiendo."
   ]
  },
  {
   "cell_type": "code",
   "execution_count": 8,
   "metadata": {},
   "outputs": [
    {
     "name": "stdout",
     "output_type": "stream",
     "text": [
      "5388.025\n",
      "14.761712328767123\n"
     ]
    }
   ],
   "source": [
    "print(intentos_necesarios/rangos_encuentro)\n",
    "print(intentos_necesarios/(rangos_encuentro*365))"
   ]
  },
  {
   "cell_type": "markdown",
   "metadata": {},
   "source": [
    "Este ejercicio es un escenario muy, muy poco realista. Las personas tenemos rutinas, así que es más probable que me vuelva a encontrar con alguien que vive cerca y entra/sale del trabajo a la misma hora, a alguien que tiene hobbies parecidos como conciertos de música clásica, o cualquier cosa por el estilo. El área de Madrid no es visitada de manera uniforme, sobre todo si se incluyen horarios.\n",
    "\n",
    "Por el momento voy a volver a mi trabajo de verdad, pero tal vez haga un repositorio al cual puedan contribuir ustedes para encontrar la respuesta real a la pregunta. Chicos, encuentren mejores temas de conversación para el gimnasio."
   ]
  }
 ],
 "metadata": {
  "kernelspec": {
   "display_name": "Python 3",
   "language": "python",
   "name": "python3"
  },
  "language_info": {
   "codemirror_mode": {
    "name": "ipython",
    "version": 3
   },
   "file_extension": ".py",
   "mimetype": "text/x-python",
   "name": "python",
   "nbconvert_exporter": "python",
   "pygments_lexer": "ipython3",
   "version": "3.9.6"
  }
 },
 "nbformat": 4,
 "nbformat_minor": 2
}
